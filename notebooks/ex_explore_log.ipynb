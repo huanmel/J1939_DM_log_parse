{
 "cells": [
  {
   "cell_type": "code",
   "execution_count": 1,
   "metadata": {},
   "outputs": [
    {
     "name": "stderr",
     "output_type": "stream",
     "text": [
      "ldf is not supported\n",
      "xls is not supported\n",
      "xlsx is not supported\n"
     ]
    },
    {
     "name": "stdout",
     "output_type": "stream",
     "text": [
      "{\"key\":\"41270efd-1599-4f1c-9891-cbcb593980ae\",\"signature_scheme\":\"hmac-sha256\",\"transport\":\"tcp\",\"ip\":\"127.0.0.1\",\"hb_port\":9020,\"control_port\":9021,\"shell_port\":9022,\"stdin_port\":9023,\"iopub_port\":9024,\"kernel_name\":\"python3127jvsc74a57bd0e7c25480a53691149789381bdda99fb7f8d344b19173f1535ebe8bfb62cf4ee5\"}\n",
      "\n",
      "Paste the above JSON into a file, and connect with:\n",
      "    $> jupyter <app> --existing <file>\n",
      "or, if you are local, you can connect with just:\n",
      "    $> jupyter <app> --existing c:\\Users\\meleshin\\AppData\\Roaming\\jupyter\\runtime\\kernel-v392f1730184e261e51c68cdd91703e1b39efd55f4.json\n",
      "or even just:\n",
      "    $> jupyter <app> --existing\n",
      "if this is the most recent Jupyter kernel you have started.\n"
     ]
    }
   ],
   "source": [
    "%load_ext autoreload\n",
    "%autoreload 2\n",
    "import warnings\n",
    "import os\n",
    "from etils import ecolab\n",
    "import numpy as np\n",
    "from asammdf import MDF\n",
    "from pathlib import Path\n",
    "import logging\n",
    "from collections import  defaultdict\n",
    "import pandas as pd\n",
    "import matplotlib.pyplot as plt\n",
    "from plotly.subplots import make_subplots\n",
    "\n",
    "\n",
    "\n",
    "import  utils.can_log_utils as utls\n",
    "from utils.dbc_db import DbcDb\n",
    "\n",
    "logging.getLogger('asammdf').setLevel(logging.DEBUG)\n",
    "%connect_info"
   ]
  },
  {
   "cell_type": "code",
   "execution_count": 2,
   "metadata": {},
   "outputs": [],
   "source": [
    "log_file1=r'C:\\D\\work\\py_work\\UCSDT_utils\\can_log_mdf_parse\\input\\canlog_38837_20241003_113923_move.mf4'\n",
    "dbc_dir=r'dbc\\ucs_dbc-0.12.0.0'\n",
    "CAN_MAPS_FILE=r'input\\VAN_CAN_MAPS.xlsx'\n",
    "CAN_MAPS_SHEET_ECU='ECU_NAMES'\n",
    "can2ch_maps={'CAN2_VEH':2,'CAN7_BRK':3}\n",
    "f_time1=None\n",
    "# f_time1=[12,22] # selection of the log"
   ]
  },
  {
   "cell_type": "code",
   "execution_count": 7,
   "metadata": {},
   "outputs": [
    {
     "name": "stdout",
     "output_type": "stream",
     "text": [
      "dropped file and written info page into C:\\D\\work\\py_work\\UCSDT_utils\\can_log_mdf_parse\\input\\canlog_38837_20241003_113923_move.xlsx\n",
      "total number of id: 1715\n",
      "total number of dbc.msg: 3143\n",
      "number of dublicated id: 1245\n",
      "number of dublicated pgn: 1210\n",
      "data collected into groups by (CAN,MSG_ID,IsExtended)\n",
      "number of records: 838\n",
      "{'mean': 10, 'cv': 10}\n",
      "MDF file attributes:\n",
      "\tmdf.file_history: [FHBLOCK(time=2024-10-03 11:39:23.338856+00:00, comment=<FHcomment><TX>Canlogger 2.0.0</TX><tool_id>Canlogger</tool_id><tool_vendor>Arrival</tool_vendor><tool_version>2.0.0</tool_version></FHcomment>)]\n",
      "\tmdf.start_time: 2024-10-03 11:39:23.338856+00:00\n",
      "\tmdf.name: C:\\D\\work\\py_work\\UCSDT_utils\\can_log_mdf_parse\\input\\canlog_38837_20241003_113923_move.mf4\n",
      "\n",
      "log msgs total number: 838 \n",
      "log number of id wo dbc: 234\n",
      "log number dublicated id: 430\n",
      "\n",
      "dbc_db total number unique dbc 138\n",
      "log number of used dbc: 97\n",
      "\n",
      "dbc_db total number of messages in db: 3143\n",
      "log number of used messages: 717\n",
      "\n",
      "SA with ECU:\n",
      "{'ADAS_PERCEPTION', 'ADAS', 'HMI', 'RRIO2', 'FBIO2', None, 'COMM', 'IDU', 'STPRD', 'RRIO1', 'CBIO3', 'FBIO4', 'STPCB', 'DCU', 'CBIO1', 'CBIO2', 'FBIO1', 'BMS', 'INV', 'ARVLC', 'AVAS', 'FBIO3', 'STPLD'}\n",
      "\n",
      "SA without ECU\n",
      "{0.0, 1.0, 39.0, 51.0, 52.0, 53.0, 54.0, 56.0, 58.0, 84.0, 97.0, 98.0, 99.0, 102.0, 103.0, 104.0, 107.0, 108.0, 109.0, 235.0, 112.0, 113.0, 114.0, 117.0, 118.0, 119.0, 122.0, 123.0, 124.0, 254.0}\n",
      "\n",
      "\n",
      "messages with dt stat violation\n",
      "number of messages with dT mean violation: 75\n",
      "  (1, 436162907, 1): 900.0969938200001%: Arrival_uio.dbc::IoStatusPinMode1; DCU_V5.dbc::IoStatusPinMode1; IO_A_v4.dbc::IoStatusPinMode1\n",
      "  (1, 435359835, 1): 900.093747%: Arrival_uio.dbc::IoStatusFaultCount1; DCU_V5.dbc::IoStatusFaultCount1; IO_A_v4.dbc::IoStatusFaultCount1\n",
      "  (2, 33423707, 1): 900.0657834666669%: Arrival_MBMS.dbc::Battery_Info; Arrival_MBMS_recommissioning.dbc::Battery_Info; DriveCan.dbc::Battery_Info\n",
      "  (1, 33423707, 1): 900.0656279000001%: Arrival_MBMS.dbc::Battery_Info; Arrival_MBMS_recommissioning.dbc::Battery_Info; DriveCan.dbc::Battery_Info\n",
      "  (2, 301359777, 1): 900.0653945666667%: BodyCan1.dbc::Swoboda_DBG2; PYLDSYSDBG.dbc::Swoboda_DBG2; UpperZonalCan.dbc::RideHeightSensorRaw\n",
      "number of messages with CV violation: 47\n",
      "  (2, 251627098, 1): 378.87408771258754%: BodyCan1.dbc::DVT_Debug_1; DVT.dbc::DVT_Debug_1\n",
      "  (7, 419361843, 1): 181.05800775746883%: ADAS_J1939.dbc::TIRE1; BodyCan1.dbc::TIRE1; DriveCan.dbc::TPMS; j1939.dbc::TIRE1; j1939_TPMS.dbc::TIRE1\n",
      "  (7, 418119441, 1): 145.89876853616232%: ADAS_J1939.dbc::TPDT; j1939.dbc::TPDT; j1939_system.dbc::TPDT\n",
      "  (2, 418119514, 1): 143.09677715360107%: ADAS_J1939.dbc::TPDT; j1939.dbc::TPDT; j1939_system.dbc::TPDT\n",
      "  (2, 418119585, 1): 138.55050310221057%: ADAS_J1939.dbc::TPDT; j1939.dbc::TPDT; j1939_system.dbc::TPDT\n",
      "stat reports written: C:\\D\\work\\py_work\\UCSDT_utils\\can_log_mdf_parse\\input\\canlog_38837_20241003_113923_move.xlsx\n",
      "CAN MATRIX reports written: C:\\D\\work\\py_work\\UCSDT_utils\\can_log_mdf_parse\\input\\canlog_38837_20241003_113923_move.xlsx\n"
     ]
    }
   ],
   "source": [
    "(mdf1_d,mdf1_df,dbc_db)=utls.log_explore(dbc_dir,log_file1,f_time1,CAN_MAPS_FILE,CAN_MAPS_SHEET_ECU)"
   ]
  }
 ],
 "metadata": {
  "kernelspec": {
   "display_name": "venv",
   "language": "python",
   "name": "python3"
  },
  "language_info": {
   "codemirror_mode": {
    "name": "ipython",
    "version": 3
   },
   "file_extension": ".py",
   "mimetype": "text/x-python",
   "name": "python",
   "nbconvert_exporter": "python",
   "pygments_lexer": "ipython3",
   "version": "3.12.7"
  }
 },
 "nbformat": 4,
 "nbformat_minor": 2
}
